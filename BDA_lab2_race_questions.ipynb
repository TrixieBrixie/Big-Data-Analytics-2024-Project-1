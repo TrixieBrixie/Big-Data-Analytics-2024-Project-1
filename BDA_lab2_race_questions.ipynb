{
 "cells": [
  {
   "cell_type": "markdown",
   "metadata": {
    "id": "_IVCQrrG1xkk"
   },
   "source": [
    "# BDA Lab 2"
   ]
  },
  {
   "cell_type": "markdown",
   "metadata": {
    "id": "okWxV7hrqj-s"
   },
   "source": [
    "### In this race lab you are not allowed to use any built-in Python functions like `len`, `sum`, `max`, `range` etc. 😀\n",
    "\n",
    "You can create your own supporting functions, if necessary."
   ]
  },
  {
   "cell_type": "markdown",
   "metadata": {
    "id": "lKEbiyJt9IvF"
   },
   "source": [
    "**🔉 This lab is a timed race, which means we will proceed through this tutorial together during the lab session, using a timer.**"
   ]
  },
  {
   "cell_type": "markdown",
   "metadata": {
    "id": "e8mHcvymzhit"
   },
   "source": [
    "# Warmup group 1"
   ]
  },
  {
   "cell_type": "markdown",
   "metadata": {
    "id": "ggtxr1d9dgPN"
   },
   "source": [
    "**Warmup 1**\n",
    "\n",
    "Create a list and print all its elements.\n",
    "\n",
    "`alist = [-10,-5,0,4,9]`\n"
   ]
  },
  {
   "cell_type": "code",
   "execution_count": 2,
   "metadata": {
    "colab": {
     "base_uri": "https://localhost:8080/"
    },
    "id": "IEqHsNQOdrls",
    "outputId": "8c59f384-04d6-47d7-ecb4-b715bec0f364"
   },
   "outputs": [
    {
     "name": "stdout",
     "output_type": "stream",
     "text": [
      "-10\n",
      "-5\n",
      "0\n",
      "4\n",
      "9\n"
     ]
    }
   ],
   "source": [
    "# Provide your solution here\n",
    "\n",
    "alist = [-10,-5,0,4,9]\n",
    "for element in alist:\n",
    "    print (element)\n"
   ]
  },
  {
   "cell_type": "markdown",
   "metadata": {
    "id": "1iPPFTJEeBUp"
   },
   "source": [
    "> What are the time and space complexities?\n",
    ">\n",
    "> Time: O(n)\n",
    ">\n",
    "> Space: O(1)"
   ]
  },
  {
   "cell_type": "markdown",
   "metadata": {
    "id": "0odD6c_TqNt5"
   },
   "source": [
    "**Warmup 2**\n",
    "\n",
    "Print the index numbers of the list.\n",
    "alist = [-10,-5,0,4,9]"
   ]
  },
  {
   "cell_type": "code",
   "execution_count": 12,
   "metadata": {
    "colab": {
     "base_uri": "https://localhost:8080/"
    },
    "id": "0s6V0k1rqV29",
    "outputId": "14a1c80a-e88b-4838-e86f-1c910c7bb907"
   },
   "outputs": [
    {
     "name": "stdout",
     "output_type": "stream",
     "text": [
      "0\n",
      "1\n",
      "2\n",
      "3\n",
      "4\n"
     ]
    }
   ],
   "source": [
    "# Provide your solution here\n",
    "alist = [-10, -5, 0, 4, 9]\n",
    "index = 0  # Start an index counter at 0\n",
    "\n",
    "for i in alist:\n",
    "    print(index)  # Print the current index\n",
    "    index += 1 \n"
   ]
  },
  {
   "cell_type": "markdown",
   "metadata": {
    "id": "mZxfViIpdu8U"
   },
   "source": [
    "**Warmup 3**\n",
    "\n",
    "Create a list and print only the positive numbers or zeros.\n",
    "\n",
    "`alist = [-10,-5,0,4,9]`\n",
    "\n"
   ]
  },
  {
   "cell_type": "code",
   "execution_count": 18,
   "metadata": {
    "colab": {
     "base_uri": "https://localhost:8080/"
    },
    "id": "cuNwQtzSeFUv",
    "outputId": "306c8419-0cbc-4dec-fba0-7e9444c59bf2"
   },
   "outputs": [
    {
     "name": "stdout",
     "output_type": "stream",
     "text": [
      "0\n",
      "4\n",
      "9\n"
     ]
    }
   ],
   "source": [
    "# Provide your solution here\n",
    "\n",
    "alist = [-10,-5,0,4,9]\n",
    "for element in alist:\n",
    "    if element >= 0:  \n",
    "        print(element)"
   ]
  },
  {
   "cell_type": "markdown",
   "metadata": {
    "id": "mI7XjasgeJ0k"
   },
   "source": [
    "> What are the time and space complexities?\n",
    ">\n",
    "> Time: O(n)\n",
    ">\n",
    "> Space: O(n)"
   ]
  },
  {
   "cell_type": "markdown",
   "metadata": {
    "id": "o2AvqWP6ePLm"
   },
   "source": [
    "**Warmup 4**\n",
    "\n",
    "Export the positive numbers or zeros into a new list.\n",
    "\n",
    "`alist = [-10,-5,0,4,9]`"
   ]
  },
  {
   "cell_type": "code",
   "execution_count": 22,
   "metadata": {
    "colab": {
     "base_uri": "https://localhost:8080/"
    },
    "id": "HpydkJpweUVX",
    "outputId": "befb1af9-a693-46b2-e303-7b5cc270c680"
   },
   "outputs": [
    {
     "name": "stdout",
     "output_type": "stream",
     "text": [
      "[0, 4, 9]\n"
     ]
    }
   ],
   "source": [
    "# Provide your solution here\n",
    "alist = [-10,-5,0,4,9]\n",
    "new_list = []\n",
    "\n",
    "alist = [-10,-5,0,4,9]\n",
    "for element in alist:\n",
    "    if element >= 0:  \n",
    "        new_list.append(element) \n",
    "print(new_list)\n"
   ]
  },
  {
   "cell_type": "markdown",
   "metadata": {
    "id": "XBW9BFa_eaoV"
   },
   "source": [
    "> What are the time and space complexities?\n",
    ">\n",
    "> Time: O(n)\n",
    ">\n",
    "> Space: O(n)"
   ]
  },
  {
   "cell_type": "markdown",
   "metadata": {
    "id": "2WCH2fNYfSmh"
   },
   "source": [
    "**Warmup 5**\n",
    "\n",
    "Find the average of a list of integers.\n",
    "* `alist = [-10,-5,0,4,9]`"
   ]
  },
  {
   "cell_type": "code",
   "execution_count": 24,
   "metadata": {
    "colab": {
     "base_uri": "https://localhost:8080/"
    },
    "id": "YVg-3buRfXy3",
    "outputId": "7be5d5a8-1187-4f9e-b38e-e2ac2fbcfbb8"
   },
   "outputs": [
    {
     "name": "stdout",
     "output_type": "stream",
     "text": [
      "-0.4\n"
     ]
    }
   ],
   "source": [
    "# Provide your solution here\n",
    "\n",
    "alist = [-10, -5, 0, 4, 9]\n",
    "total_sum = 0  # Initialize sum of elements\n",
    "count = 0      # Initialize count of elements\n",
    "\n",
    "# Calculate the sum and count the number of elements\n",
    "for element in alist:\n",
    "    total_sum += element\n",
    "    count += 1\n",
    "\n",
    "# Calculate the average by dividing the total sum by the number of elements\n",
    "average = total_sum / count if count != 0 else 0  # Include a check to avoid division by zero\n",
    "\n",
    "print(average)  # Output the average\n"
   ]
  },
  {
   "cell_type": "markdown",
   "metadata": {
    "id": "y9JwlsIygz1a"
   },
   "source": [
    "> What are the time and space complexities?\n",
    ">\n",
    "> Time: O(n)\n",
    ">\n",
    "> Space: O(1)"
   ]
  },
  {
   "cell_type": "markdown",
   "metadata": {
    "id": "t7DrWe2QtkJt"
   },
   "source": [
    "**Warmup 6**"
   ]
  },
  {
   "cell_type": "markdown",
   "metadata": {
    "id": "CylHqpsvhEoL"
   },
   "source": [
    "Find the max of a sorted list of positive integers."
   ]
  },
  {
   "cell_type": "code",
   "execution_count": 6,
   "metadata": {
    "colab": {
     "base_uri": "https://localhost:8080/"
    },
    "id": "lbB8xeudhT14",
    "outputId": "6ca8f203-76d4-4146-e089-a231b58fbbb0"
   },
   "outputs": [
    {
     "name": "stdout",
     "output_type": "stream",
     "text": [
      "10\n"
     ]
    }
   ],
   "source": [
    "# Provide your solution here\n",
    "alist = [4, 6, 8, 10]\n",
    "\n",
    "# Calculate the length of the list manually\n",
    "length = 0\n",
    "for _ in alist:\n",
    "    length += 1\n",
    "\n",
    "# Initialize an index to traverse the list\n",
    "index = 1\n",
    "\n",
    "# Loop through the list to find the maximum value\n",
    "while index < length:\n",
    "    max_value = alist[index]  # Since the list is sorted, the last element accessed will be the largest\n",
    "    index += 1\n",
    "\n",
    "print(max_value)  # Output the maximum value\n"
   ]
  },
  {
   "cell_type": "markdown",
   "metadata": {
    "id": "I9Z-dP5mhb0C"
   },
   "source": [
    "> What are the time and space complexities?\n",
    ">\n",
    "> Time: O(n)\n",
    ">\n",
    "> Space: O(1)"
   ]
  },
  {
   "cell_type": "markdown",
   "metadata": {
    "id": "cbNecGo2haCm"
   },
   "source": [
    "**Warmup 7**"
   ]
  },
  {
   "cell_type": "markdown",
   "metadata": {
    "id": "0ontsTzOtoL9"
   },
   "source": [
    "Find the max of a list of positive integers."
   ]
  },
  {
   "cell_type": "code",
   "execution_count": 8,
   "metadata": {
    "colab": {
     "base_uri": "https://localhost:8080/"
    },
    "id": "DmGUvutDtnBT",
    "outputId": "140ce8ca-8597-4f25-f005-0785f8711561"
   },
   "outputs": [
    {
     "name": "stdout",
     "output_type": "stream",
     "text": [
      "10\n"
     ]
    }
   ],
   "source": [
    "# Provide your solution here\n",
    "def findMax(alist):\n",
    "    # Initialize the maximum value to the first element in the list\n",
    "    max_value = alist[0]\n",
    "\n",
    "    # Initialize an index to traverse the list\n",
    "    index = 1\n",
    "\n",
    "    # Manually iterate through the list\n",
    "    while True:\n",
    "        try:\n",
    "            # Try to access the current element\n",
    "            current_value = alist[index]\n",
    "        except IndexError:\n",
    "            # If IndexError occurs, we have reached the end of the list\n",
    "            break\n",
    "\n",
    "        # Update max_value if the current element is greater\n",
    "        if current_value > max_value:\n",
    "            max_value = current_value\n",
    "\n",
    "        # Move to the next element\n",
    "        index += 1\n",
    "\n",
    "    # Return the maximum value\n",
    "    return max_value\n",
    "\n",
    "# Example list\n",
    "alist = [4, 6, 8, 10]\n",
    "\n",
    "# Output the maximum value\n",
    "print(findMax(alist))  # Output: 10\n"
   ]
  },
  {
   "cell_type": "markdown",
   "metadata": {
    "id": "EVG4qkSbg6tH"
   },
   "source": [
    "> What are the time and space complexities?\n",
    ">\n",
    "> Time: O(n)\n",
    ">\n",
    "> Space: O(1)"
   ]
  },
  {
   "cell_type": "markdown",
   "metadata": {
    "id": "3QAw6qes0Y4m"
   },
   "source": [
    "# Exercises group 1"
   ]
  },
  {
   "cell_type": "markdown",
   "metadata": {
    "id": "aCya2f4nfFJU"
   },
   "source": [
    "**E1.1**\n",
    "\n",
    "Print the list in reverse order.\n",
    "\n",
    "`alist = [-10,-5,0,4,9]`"
   ]
  },
  {
   "cell_type": "code",
   "execution_count": 5,
   "metadata": {
    "colab": {
     "base_uri": "https://localhost:8080/"
    },
    "id": "h4hV5c_1fFpF",
    "outputId": "279cbc7a-df64-4046-8033-64c60906c163"
   },
   "outputs": [
    {
     "name": "stdout",
     "output_type": "stream",
     "text": [
      "9\n",
      "4\n",
      "0\n",
      "-5\n",
      "-10\n"
     ]
    }
   ],
   "source": [
    "# Provide your solution here\n",
    "\n",
    "def print_reverse(alist):\n",
    "    # Calculate the length of the list manually\n",
    "    # length = 0\n",
    "    # for _ in alist:\n",
    "    #     length += 1\n",
    "\n",
    "    # Initialize an index to point to the last element\n",
    "    # index = length - 1\n",
    "\n",
    "    index = len(alist) -1\n",
    "    # Loop to print elements in reverse order\n",
    "    while index >= 0:\n",
    "        print(alist[index])\n",
    "        index -= 1\n",
    "\n",
    "# Example list\n",
    "alist = [-10, -5, 0, 4, 9]\n",
    "\n",
    "# Print the list in reverse order\n",
    "print_reverse(alist)\n"
   ]
  },
  {
   "cell_type": "markdown",
   "metadata": {
    "id": "L1xCDxwlftmB"
   },
   "source": [
    "> What are the time and space complexities?\n",
    ">\n",
    "> Time: O(n)\n",
    ">\n",
    "> Space: O(1)"
   ]
  },
  {
   "cell_type": "markdown",
   "metadata": {
    "id": "dBxq9Pvmednh"
   },
   "source": [
    "**E1.2**\n",
    "\n",
    "Remove the negative numbers of a list.\n",
    "\n",
    "`alist = [-10,-5,0,4,9]`"
   ]
  },
  {
   "cell_type": "markdown",
   "metadata": {
    "id": "0iXe11dTxO0l"
   },
   "source": [
    "For this task you can use the following script:\n",
    "\n",
    "`for i in range(len(alist) - 1, -1, -1):`"
   ]
  },
  {
   "cell_type": "code",
   "execution_count": 13,
   "metadata": {
    "colab": {
     "base_uri": "https://localhost:8080/"
    },
    "id": "qAI5cn9beikC",
    "outputId": "0744a255-2c0f-4075-ce1f-00a4a6d4ffa2"
   },
   "outputs": [
    {
     "name": "stdout",
     "output_type": "stream",
     "text": [
      "[9, 4, 0]\n"
     ]
    }
   ],
   "source": [
    "# Provide your solution here\n",
    "alist = [-10,-5,0,4,9]\n",
    "final_list = []\n",
    "\n",
    "for i in range(len(alist) - 1, -1, -1):\n",
    "    if alist[i] >= 0:\n",
    "        final_list.append(alist[i])\n",
    "\n",
    "print(final_list)\n",
    "\n"
   ]
  },
  {
   "cell_type": "markdown",
   "metadata": {
    "id": "FmQoNhqkfwHg"
   },
   "source": [
    "> What are the time and space complexities?\n",
    ">\n",
    "> Time: O(n)\n",
    ">\n",
    "> Space: O(n)"
   ]
  },
  {
   "cell_type": "markdown",
   "metadata": {
    "id": "aqb6XG7YhB9v"
   },
   "source": [
    "**E1.3**\n",
    "\n",
    "Write a program that prompts the user to enter a password.\n",
    "\n",
    "If the password is incorrect, keep prompting the user until they enter the correct password.\n",
    "\n",
    "* The correct password is `secret`."
   ]
  },
  {
   "cell_type": "code",
   "execution_count": 15,
   "metadata": {
    "colab": {
     "base_uri": "https://localhost:8080/"
    },
    "id": "oHrAsC2NhCTp",
    "outputId": "fbc2f42f-b5ad-454f-cdfc-4d12cb1d6270"
   },
   "outputs": [
    {
     "name": "stdin",
     "output_type": "stream",
     "text": [
      "Enter your password:  secrett\\\n",
      "Enter your password:  dkdd\n",
      "Enter your password:  secret\n"
     ]
    },
    {
     "name": "stdout",
     "output_type": "stream",
     "text": [
      "Password accepted.\n"
     ]
    }
   ],
   "source": [
    "# Provide your solution here\n",
    "correct_password = 'secret'\n",
    "\n",
    "# Prompt the user to enter their password\n",
    "user = input(\"Enter your password: \").strip()\n",
    "\n",
    "# Loop until the correct password is entered\n",
    "while user != correct_password:\n",
    "    user = input(\"Enter your password: \").strip()\n",
    "\n",
    "print(\"Password accepted.\")"
   ]
  },
  {
   "cell_type": "markdown",
   "metadata": {
    "id": "D_RCzEX6hzqw"
   },
   "source": [
    "> What are the time and space complexities?\n",
    ">\n",
    "> Time: O(n)\n",
    ">\n",
    "> Space: O(n)"
   ]
  },
  {
   "cell_type": "markdown",
   "metadata": {
    "id": "K99nLvGCfxm1"
   },
   "source": [
    "**E1.4**\n",
    "\n",
    "Reverse elements of list.\n",
    "* `alist = [1,4,7,8]`\n",
    "\n",
    "You have to create your own `mylen` function for this task."
   ]
  },
  {
   "cell_type": "code",
   "execution_count": 6,
   "metadata": {
    "colab": {
     "base_uri": "https://localhost:8080/"
    },
    "id": "t_cd88nKgRUd",
    "outputId": "5388f9f4-6d17-4407-c227-63072c1a7579"
   },
   "outputs": [
    {
     "name": "stdout",
     "output_type": "stream",
     "text": [
      "Reversed list: [8, 7, 4, 1]\n"
     ]
    }
   ],
   "source": [
    "# Provide your solution here\n",
    "\n",
    "alist = [1, 4, 7, 8]\n",
    "\n",
    "# Define the mylen function \n",
    "# def mylen(lst):\n",
    "#     count = 0\n",
    "#     for _ in lst:\n",
    "#         count += 1\n",
    "#     return count\n",
    "\n",
    "# Define the reverse function to reverse the elements of the list\n",
    "def reverse_list(lst):\n",
    "    # length = mylen(lst)  # Get the length of the list using mylen\n",
    "    reversed_list = []\n",
    "    \n",
    "    # Append elements from the end to the beginning\n",
    "    #for i in range(length - 1, -1, -1):\n",
    "    for i in range(len(lst) -1, -1, -1):\n",
    "        reversed_list.append(lst[i])\n",
    "    \n",
    "    return reversed_list\n",
    "\n",
    "# Use the reverse function to reverse alist\n",
    "reversed_alist = reverse_list(alist)\n",
    "\n",
    "# Print the reversed list\n",
    "print(\"Reversed list:\", reversed_alist)\n",
    "\n",
    "        \n"
   ]
  },
  {
   "cell_type": "markdown",
   "metadata": {
    "id": "a216pdF635_c"
   },
   "source": [
    "##### Can you do it with time O(n) and space O(1)"
   ]
  },
  {
   "cell_type": "code",
   "execution_count": 3,
   "metadata": {
    "id": "1QP6xOQ_4B4P"
   },
   "outputs": [
    {
     "name": "stdout",
     "output_type": "stream",
     "text": [
      "Reversed list in-place: [8, 7, 4, 1]\n"
     ]
    }
   ],
   "source": [
    "# Provide your solution here\n",
    "alist = [1,4,7,8]\n",
    "\n",
    "# Define the mylen function \n",
    "def mylen(lst):\n",
    "    count = 0\n",
    "    for _ in lst:\n",
    "        count += 1\n",
    "    return count\n",
    "\n",
    "def reverse_list_in_place(lst):\n",
    "    start = 0\n",
    "    end = mylen(lst) - 1\n",
    "    \n",
    "    # Continue swapping while the start index is less than the end index\n",
    "    while start < end:\n",
    "        # Swap the elements at the start and end indexes\n",
    "        lst[start], lst[end] = lst[end], lst[start]\n",
    "        \n",
    "        # Move the start index forward and the end index backward\n",
    "        start += 1\n",
    "        end -= 1\n",
    "\n",
    "# Test the function\n",
    "alist = [1, 4, 7, 8]\n",
    "reverse_list_in_place(alist)\n",
    "print(\"Reversed list in-place:\", alist)\n"
   ]
  },
  {
   "cell_type": "markdown",
   "metadata": {
    "id": "i1PKZR_T4COE"
   },
   "source": [
    "> **Hack** 🤔\n",
    ">\n",
    "> Create two pointers, one at 0 index and one at index 3.\n",
    "> Increase the first index while reducing the second index  at each iteration to achieve swappings.\n",
    ">\n",
    "> This will allow to use: time O(n) and space O(1)."
   ]
  },
  {
   "cell_type": "markdown",
   "metadata": {
    "id": "lcFbzckV0rh0"
   },
   "source": [
    "# Exercises group 2"
   ]
  },
  {
   "cell_type": "markdown",
   "metadata": {
    "id": "topkBl4uUsBm"
   },
   "source": [
    "**E2.1**\n",
    "\n",
    "Create a script to search a list for a specific key.\n",
    "- Print `True` and stop the search upon first occurrence of the key.\n",
    "- Otherwise, print `False`.\n",
    "- Print only once at the end."
   ]
  },
  {
   "cell_type": "code",
   "execution_count": 7,
   "metadata": {
    "colab": {
     "base_uri": "https://localhost:8080/"
    },
    "id": "mLJSFNOlUoY1",
    "outputId": "5d9be73e-d375-4153-a4d1-3a16772e7530"
   },
   "outputs": [
    {
     "name": "stdout",
     "output_type": "stream",
     "text": [
      "False\n"
     ]
    }
   ],
   "source": [
    "# Provide your solution here\n",
    "alist = [10,20,30,40,50,60,70,80,90]\n",
    "key = 140\n",
    "\n",
    "found = False  # Flag to track if the key is found\n",
    "\n",
    "for element in alist:  # Iterate directly over elements in the list\n",
    "    if element == key:\n",
    "        found = True  # Set flag to True if key is found\n",
    "        break\n",
    "\n",
    "print(found)"
   ]
  },
  {
   "cell_type": "markdown",
   "metadata": {
    "id": "VbvDawQSW53z"
   },
   "source": [
    "> What are the time and space complexities?\n",
    ">\n",
    "> Time: O(n)\n",
    ">\n",
    "> Space: O(1)"
   ]
  },
  {
   "cell_type": "markdown",
   "metadata": {
    "id": "lkcifAIQV1k-"
   },
   "source": [
    "**E2.2**\n",
    "\n",
    "Create a function called `linearSearch` that accepts two arguments:\n",
    "- A list to search\n",
    "- A key to find\n",
    "- Return True or False at the end."
   ]
  },
  {
   "cell_type": "code",
   "execution_count": 8,
   "metadata": {
    "colab": {
     "base_uri": "https://localhost:8080/"
    },
    "id": "-urVywLJV1Hz",
    "outputId": "9f0f9d50-0fe1-4e5c-ed05-a3476a684057"
   },
   "outputs": [
    {
     "name": "stdout",
     "output_type": "stream",
     "text": [
      "True\n",
      "False\n"
     ]
    }
   ],
   "source": [
    "# Provide your solution here\n",
    "alist = [10,20,30,40,50,60,70,80,90]\n",
    "\n",
    "def linearSearch(arr,key):\n",
    "    found = False  # Flag to track if the key is found\n",
    "    for element in alist:  # Iterate directly over elements in the list\n",
    "        if element == key:\n",
    "            return True  # Set flag to True if key is found\n",
    "    return False  # Return False after checking all elements\n",
    "        \n",
    "print(linearSearch(alist,40))\n",
    "print(linearSearch(alist,140))"
   ]
  },
  {
   "cell_type": "markdown",
   "metadata": {
    "id": "71U7Uq1nWWjG"
   },
   "source": [
    "**E2.3**\n",
    "\n",
    "Create a script to search a list for a specific key.\n",
    "- Print the index of the first key\n",
    "- stop the search upon first occurrence of the key.\n",
    "- Otherwise, print `-1`.\n",
    "- Print only once at the end.\n",
    "- Try for both key1=40 and key2=140"
   ]
  },
  {
   "cell_type": "code",
   "execution_count": 35,
   "metadata": {
    "colab": {
     "base_uri": "https://localhost:8080/"
    },
    "id": "Gd7R7LtfWVlp",
    "outputId": "25877988-aca4-48a4-99aa-ea52e28210fc"
   },
   "outputs": [
    {
     "name": "stdout",
     "output_type": "stream",
     "text": [
      "3\n",
      "-1\n"
     ]
    }
   ],
   "source": [
    "# Provide your solution here\n",
    "\n",
    "alist = [10,20,30,40,50,60,70,80,90]\n",
    "key1=40\n",
    "key2=140\n",
    "\n",
    "def search_key_index(alist, key):\n",
    "    # Loop over the indices of the list\n",
    "    for i in range(len(alist)):\n",
    "        if alist[i] == key:\n",
    "            return i  # Return the index if the key is found\n",
    "    return -1  # Return -1 if the key is not found\n",
    "\n",
    "# def search_key_index(alist, key):\n",
    "#     # Loop through the list, getting both index and element\n",
    "#     for index, element in enumerate(alist):\n",
    "#         if element == key:\n",
    "#             return index  # Return the index if the key is found\n",
    "#     return -1  # Return -1 if the loop completes without finding the key\n",
    "\n",
    "print(search_key_index(alist,key1))\n",
    "print(search_key_index(alist,key2))"
   ]
  },
  {
   "cell_type": "markdown",
   "metadata": {
    "id": "7oAhyhRPW9H7"
   },
   "source": [
    "> What are the time and space complexities?\n",
    ">\n",
    "> Time: O(n)\n",
    ">\n",
    "> Space: O(1)"
   ]
  },
  {
   "cell_type": "markdown",
   "metadata": {
    "id": "aiXnNdinXI0j"
   },
   "source": [
    "**E2.4**\n",
    "\n",
    "Create a script to search a list for a specific key.\n",
    "- Return all the indicies of the keys in the list.\n",
    "- Otherwise, return -1.\n",
    "- Try for both key1=40 and key2=140"
   ]
  },
  {
   "cell_type": "code",
   "execution_count": 37,
   "metadata": {
    "colab": {
     "base_uri": "https://localhost:8080/"
    },
    "id": "eha__3trXZAu",
    "outputId": "65c59651-3b6a-41df-f070-6fceaaf82552"
   },
   "outputs": [
    {
     "name": "stdout",
     "output_type": "stream",
     "text": [
      "4\n",
      "-1\n"
     ]
    }
   ],
   "source": [
    "# Provide your solution here\n",
    "\n",
    "alist = [10,40,40,60]\n",
    "key1 = 40\n",
    "key2 = 140\n",
    "\n",
    "def searchKeys(alist,key):\n",
    "    count = 0\n",
    "    for _ in alist:\n",
    "        count += 1\n",
    "    for element in alist:\n",
    "        if element == key:\n",
    "            return count\n",
    "    return -1\n",
    "\n",
    "print(searchKeys(alist,key1))\n",
    "print(searchKeys(alist,key2))"
   ]
  },
  {
   "cell_type": "markdown",
   "metadata": {
    "id": "pSAtfG2fYvac"
   },
   "source": [
    "> What are the time and space complexities?\n",
    ">\n",
    "> Time: O(n)\n",
    ">\n",
    "> Space: O(1)"
   ]
  },
  {
   "cell_type": "markdown",
   "metadata": {
    "id": "OAgfHa4OYdcc"
   },
   "source": [
    "**E2.5**\n",
    "\n",
    "Create a function called `countKeys` to count how many times a key appears in a list.\n",
    "- Return the results in the form `{key:value}`. For example `{40:2}`, means key 40 exists 2 times."
   ]
  },
  {
   "cell_type": "code",
   "execution_count": 47,
   "metadata": {
    "colab": {
     "base_uri": "https://localhost:8080/"
    },
    "id": "8Sth5sBRYiS7",
    "outputId": "a8d33a95-9681-4224-d37a-95107a8e0298"
   },
   "outputs": [
    {
     "data": {
      "text/plain": [
       "{40: 2}"
      ]
     },
     "execution_count": 47,
     "metadata": {},
     "output_type": "execute_result"
    }
   ],
   "source": [
    "# Provide your solution here\n",
    "alist = [10,10,20,40,40,50]\n",
    "key1=40\n",
    "\n",
    "def countKeys(alist, key):\n",
    "    count = 0  # Initialize the count of the key\n",
    "    for element in alist:\n",
    "        if element == key:\n",
    "            count += 1  # Increment the count whenever the key is found\n",
    "    return {key: count}  # Return the dictionary with the key and its count\n",
    "\n",
    "countKeys(alist,key1)\n"
   ]
  },
  {
   "cell_type": "markdown",
   "metadata": {
    "id": "qwRyi6ERaSuI"
   },
   "source": [
    "**E2.6**\n",
    "\n",
    "Create a script to swap two elements of a list.\n",
    "- The user will provide you a list and the two index values to swap.\n",
    "- Swap in place.\n",
    "\n",
    "For example:\n",
    "* [10,20,30,40]\n",
    "* index 1 = 0\n",
    "* index 2 = 3\n",
    "* Return [40,20,30,10]"
   ]
  },
  {
   "cell_type": "code",
   "execution_count": 59,
   "metadata": {
    "colab": {
     "base_uri": "https://localhost:8080/"
    },
    "id": "BnZue29ubFTo",
    "outputId": "bea8377c-d677-483c-895d-f22df592c4f0"
   },
   "outputs": [
    {
     "name": "stdin",
     "output_type": "stream",
     "text": [
      "Enter a list of integers separated by commas or spaces:  10 20 30 40\n",
      "Enter the first index of the number you want to swap:  0\n",
      "Enter the second index of the number you want to swap:  3\n"
     ]
    },
    {
     "name": "stdout",
     "output_type": "stream",
     "text": [
      "[40, 20, 30, 10]\n"
     ]
    }
   ],
   "source": [
    "def swapElementsIndex(alist, index1, index2):\n",
    "    # Swapping elements at index1 and index2\n",
    "    alist[index1], alist[index2] = alist[index2], alist[index1]\n",
    "    return alist\n",
    "\n",
    "# List and indices from user\n",
    "alist = input(\"Enter a list of integers separated by commas or spaces: \")\n",
    "index1 = int(input(\"Enter the first index of the number you want to swap: \"))\n",
    "index2 = int(input(\"Enter the second index of the number you want to swap: \"))\n",
    "\n",
    "# Converting input string to a list of integers\n",
    "alist = [int(x) for x in alist.replace(',', ' ').split()]\n",
    "\n",
    "# Swapping elements\n",
    "swapped_list = swapElementsIndex(alist, index1, index2)\n",
    "\n",
    "# Printing the swapped list\n",
    "print(swapped_list)\n"
   ]
  },
  {
   "cell_type": "markdown",
   "metadata": {
    "id": "w39eu3mlbbOT"
   },
   "source": [
    "What are the time and space complexity?"
   ]
  },
  {
   "cell_type": "markdown",
   "metadata": {
    "id": "yDRrYlp5beUh"
   },
   "source": [
    "> What are the time and space complexities?\n",
    ">\n",
    "> Time: O(n)\n",
    ">\n",
    "> Space: O(1)"
   ]
  },
  {
   "cell_type": "markdown",
   "metadata": {
    "id": "cv3us4jYZG5L"
   },
   "source": [
    "**E2.7**\n",
    "\n",
    "Create a script to swap two elements of a list.\n",
    "- Swap only if both elements exist in the list.\n",
    "- The user will provide you a list and the two keys to search.\n",
    "\n",
    "For example:\n",
    "* [10,20,30,40]\n",
    "* key 1 = 10\n",
    "* key 2 = 40\n",
    "* Return [40,20,30,10]"
   ]
  },
  {
   "cell_type": "code",
   "execution_count": 60,
   "metadata": {
    "colab": {
     "base_uri": "https://localhost:8080/"
    },
    "id": "VhFbMdjMZZIH",
    "outputId": "535e4e50-47dd-4db0-9031-0555d6618263"
   },
   "outputs": [
    {
     "name": "stdin",
     "output_type": "stream",
     "text": [
      "Enter a list of integers separated by commas or spaces:  10 20 30 40\n",
      "Enter the first index of the number you want to swap:  10\n",
      "Enter the second index of the number you want to swap:  30\n"
     ]
    },
    {
     "name": "stdout",
     "output_type": "stream",
     "text": [
      "[10, 20, 30, 40]\n",
      "[30, 20, 10, 40]\n",
      "[40, 20, 30, 10]\n",
      "[10, 20, 30, 40]\n"
     ]
    }
   ],
   "source": [
    "# Provide your solution here\n",
    "def swapElementsKeys(alist, key1, key2):\n",
    "    index1 = index2 = None\n",
    "    \n",
    "    # Manually finding the indices of key1 and key2\n",
    "    for i in range(len(alist)):\n",
    "        if alist[i] == key1:\n",
    "            index1 = i\n",
    "        elif alist[i] == key2:\n",
    "            index2 = i\n",
    "    \n",
    "    # If both keys are found, swap them\n",
    "    if index1 is not None and index2 is not None:\n",
    "        alist[index1], alist[index2] = alist[index2], alist[index1]\n",
    "    \n",
    "    return alist\n",
    "\n",
    "    \n",
    "\n",
    "# List and indices from user\n",
    "alist = input(\"Enter a list of integers separated by commas or spaces: \")\n",
    "index1 = int(input(\"Enter the first index of the number you want to swap: \"))\n",
    "index2 = int(input(\"Enter the second index of the number you want to swap: \"))\n",
    "\n",
    "# Converting input string to a list of integers\n",
    "alist = [int(x) for x in alist.replace(',', ' ').split()]\n",
    "\n",
    "\n",
    "# Swapping elements and printing the result\n",
    "swapped_list = swapElementsKeys(alist, key1, key2)\n",
    "print(swapped_list)\n",
    "\n",
    "# Testing with provided examples\n",
    "# print(swapElementsKeys([10, 20, 30, 40], 10, 30))\n",
    "# print(swapElementsKeys([10, 20, 30, 40], 10, 40))\n",
    "# print(swapElementsKeys([10, 20, 30, 40], 1, 40))"
   ]
  },
  {
   "cell_type": "markdown",
   "metadata": {
    "id": "scgLT94IaOnk"
   },
   "source": [
    "What are the time and space complexity?"
   ]
  },
  {
   "cell_type": "markdown",
   "metadata": {
    "id": "oLz_-jK8aRxL"
   },
   "source": [
    "> What are the time and space complexities?\n",
    ">\n",
    "> Time: O(n)\n",
    ">\n",
    "> Space: O(1)"
   ]
  },
  {
   "cell_type": "markdown",
   "metadata": {
    "id": "tiTk44nPbpXe"
   },
   "source": [
    "**E2.8**\n",
    "\n",
    "Reverse a text."
   ]
  },
  {
   "cell_type": "code",
   "execution_count": 68,
   "metadata": {
    "colab": {
     "base_uri": "https://localhost:8080/",
     "height": 56
    },
    "id": "T2Vx_LZ-bsdb",
    "outputId": "a91c48ee-a3eb-4150-950f-b702661d6854"
   },
   "outputs": [
    {
     "data": {
      "text/plain": [
       "'racecar'"
      ]
     },
     "execution_count": 68,
     "metadata": {},
     "output_type": "execute_result"
    }
   ],
   "source": [
    "# Provide your solution here\n",
    "def reverseText(text):\n",
    "    reversed_list = []\n",
    "    \n",
    "    # Append elements from the end to the beginning\n",
    "    for element in range(len(text)- 1, -1, -1):\n",
    "        reversed_list.append(text[element])\n",
    "    \n",
    "    # Join the list back into a string\n",
    "    return ''.join(reversed_list)\n",
    "        \n",
    "\n",
    "reverseText(\"racecar\")"
   ]
  },
  {
   "cell_type": "markdown",
   "metadata": {
    "id": "49nJPAtg7ZZj"
   },
   "source": [
    "> What are the time and space complexities?\n",
    ">\n",
    "> Time: O(n)\n",
    ">\n",
    "> Space: O(1)"
   ]
  },
  {
   "cell_type": "markdown",
   "metadata": {
    "id": "Qtzyg_0f7SPI"
   },
   "source": [
    "**E2.9**\n",
    "\n",
    "If you did not do it already, can you reverse the text using in-place swapping?"
   ]
  },
  {
   "cell_type": "code",
   "execution_count": 9,
   "metadata": {
    "colab": {
     "base_uri": "https://localhost:8080/"
    },
    "id": "fCbOs5mD7BbT",
    "outputId": "9f9c3719-ae72-4dcb-c64c-c3e02d3d36b0"
   },
   "outputs": [
    {
     "name": "stdout",
     "output_type": "stream",
     "text": [
      "racecar\n"
     ]
    }
   ],
   "source": [
    "def reverseTextInPlace(text):\n",
    "    # Convert the string to a list to allow in-place modifications\n",
    "    text_list = list(text)\n",
    "    \n",
    "    # Initialize pointers for the start and end of the list\n",
    "    start = 0\n",
    "    end = len(text_list) - 1\n",
    "    \n",
    "    # Swap the elements until the pointers meet in the middle\n",
    "    while start < end:\n",
    "        # Swap the elements at the start and end pointers\n",
    "        text_list[start], text_list[end] = text_list[end], text_list[start]\n",
    "        # Move the pointers towards the center\n",
    "        start += 1\n",
    "        end -= 1\n",
    "    \n",
    "    # Join the list back into a string\n",
    "    return ''.join(text_list)\n",
    "\n",
    "# Test the function\n",
    "print(reverseTextInPlace(\"racecar\"))  # Output: \"racecar\""
   ]
  },
  {
   "cell_type": "markdown",
   "metadata": {
    "id": "TQY1SG577avg"
   },
   "source": [
    "> What are the time and space complexities?\n",
    ">\n",
    "> Time: O(n)\n",
    ">\n",
    "> Space: O(n)"
   ]
  },
  {
   "cell_type": "markdown",
   "metadata": {
    "id": "-FD2pIrOcMXf"
   },
   "source": [
    "**E2.10**\n",
    "\n",
    "Check if two words are palindrome."
   ]
  },
  {
   "cell_type": "code",
   "execution_count": 25,
   "metadata": {
    "colab": {
     "base_uri": "https://localhost:8080/"
    },
    "id": "YXsSyqqghVZ1",
    "outputId": "6847525b-2233-423a-cae8-87808dbcf543"
   },
   "outputs": [
    {
     "name": "stdout",
     "output_type": "stream",
     "text": [
      "'civic' is a palindrome and 'civic' is a palindrome\n",
      "'abc' is not a palindrome and 'abc' is not a palindrome\n"
     ]
    }
   ],
   "source": [
    "# Provide your solution here\n",
    "def is_palindrome(word):\n",
    "    return word == word[::-1]\n",
    "\n",
    "def check_palindromes(word1, word2):\n",
    "    result1 = \"is a palindrome\" if is_palindrome(word1) else \"is not a palindrome\"\n",
    "    result2 = \"is a palindrome\" if is_palindrome(word2) else \"is not a palindrome\"\n",
    "    \n",
    "    return f\"'{word1}' {result1} and '{word2}' {result2}\"\n",
    "\n",
    "# Test the function\n",
    "print(check_palindromes('civic', 'civic'))  # Output: 'civic' is a palindrome and 'civic' is a palindrome\n",
    "print(check_palindromes('abc', 'abc'))      # Output: 'abc' is not a palindrome and 'abc' is not a palindrome"
   ]
  },
  {
   "cell_type": "markdown",
   "metadata": {
    "id": "6qo7nz1R8Jd1"
   },
   "source": [
    "# Exercises group 3"
   ]
  },
  {
   "cell_type": "markdown",
   "metadata": {
    "id": "6BopbA8pi9XS"
   },
   "source": [
    "**Binary Search**\n",
    "\n",
    "Develop the binary search function."
   ]
  },
  {
   "cell_type": "code",
   "execution_count": 27,
   "metadata": {
    "colab": {
     "base_uri": "https://localhost:8080/"
    },
    "id": "8WmjM-Zti_4Q",
    "outputId": "ad7530e7-a9a6-460e-b8a3-f46c6236dd48"
   },
   "outputs": [
    {
     "name": "stdout",
     "output_type": "stream",
     "text": [
      "4\n"
     ]
    }
   ],
   "source": [
    "# Provide your solution here\n",
    "\n",
    "def binary_search(arr, target):\n",
    "    left, right = 0, len(arr) - 1\n",
    "    \n",
    "    while left <= right:\n",
    "        mid = (left + right) // 2\n",
    "        \n",
    "        if arr[mid] == target:\n",
    "            return mid\n",
    "        elif arr[mid] < target:\n",
    "            left = mid + 1\n",
    "        else:\n",
    "            right = mid - 1\n",
    "    \n",
    "    return -1  # Target not found\n",
    "    \n",
    "arr = [2, 3, 5, 7, 11, 13, 17, 19]\n",
    "target = 11\n",
    "result = binary_search(arr, target)\n",
    "print(result)"
   ]
  },
  {
   "cell_type": "markdown",
   "metadata": {
    "id": "w9YqwaHmjQDZ"
   },
   "source": [
    "> What are the time and space complexities?\n",
    ">\n",
    "> Time: O(log n)\n",
    ">\n",
    "> Space: 0(1)"
   ]
  },
  {
   "cell_type": "markdown",
   "metadata": {
    "id": "zqr99Pyoj1Rw"
   },
   "source": [
    "**Two sum problem**\n",
    "\n",
    "* Given an array of integers nums and an integer target, return indices of the two numbers such that they add up to target.\n",
    "\n",
    "* You may assume that each input would have exactly one solution, and you may not use the same element twice.\n",
    "\n",
    "* You can return the answer in any order.\n",
    "\n",
    "(Google interview question)"
   ]
  },
  {
   "cell_type": "code",
   "execution_count": 35,
   "metadata": {
    "colab": {
     "base_uri": "https://localhost:8080/"
    },
    "id": "PUaLkqwLj3DT",
    "outputId": "f940ba49-7ee4-4e7e-e458-59f41030aa2a"
   },
   "outputs": [
    {
     "data": {
      "text/plain": [
       "(0, 1)"
      ]
     },
     "execution_count": 35,
     "metadata": {},
     "output_type": "execute_result"
    }
   ],
   "source": [
    "# Provide your solution here\n",
    "def twoSumBruteForce(nums, target):\n",
    "    for i in range(len(nums)):\n",
    "        for j in range(i + 1, len(nums)):  # Start j from i+1 to avoid repeating pairs\n",
    "            if nums[i] + nums[j] == target:\n",
    "                return i, j  # Return the indices of the two numbers\n",
    "                \n",
    "twoSumBruteForce([2,7,11,15],9)"
   ]
  },
  {
   "cell_type": "markdown",
   "metadata": {
    "id": "VmvMEvofkzOw"
   },
   "source": [
    "**Hasm map**\n",
    "\n",
    "* Hint!\n",
    "\n",
    "Use a set to store values as you go."
   ]
  },
  {
   "cell_type": "code",
   "execution_count": 38,
   "metadata": {
    "colab": {
     "base_uri": "https://localhost:8080/"
    },
    "id": "42RftF8YkNTm",
    "outputId": "00b41de9-3b28-4f30-ba18-efe4e0d75dca"
   },
   "outputs": [
    {
     "data": {
      "text/plain": [
       "(0, 1)"
      ]
     },
     "execution_count": 38,
     "metadata": {},
     "output_type": "execute_result"
    }
   ],
   "source": [
    "# Provide your solution here\n",
    "def twoSumHash(nums, target):\n",
    "    hash_map = {}  # Dictionary to store seen numbers and their indices\n",
    "    for i, num in enumerate(nums):\n",
    "        complement = target - num\n",
    "        if complement in hash_map:\n",
    "            return hash_map[complement], i  # Return the indices of the two numbers\n",
    "        hash_map[num] = i  # Add the current number to the hash map with its index\n",
    "    return None  # Return None if no pair is found\n",
    "    \n",
    "twoSumHash([2,7,11,15],9)"
   ]
  },
  {
   "cell_type": "markdown",
   "metadata": {
    "id": "T8gT8-krk5OM"
   },
   "source": [
    "Time Complexity: O(n), This approach iterates over the array only once, and for each element, it checks whether its complement exists in the hash map. The insertion and lookup time for a hash map is O(1) on average, so the overall time complexity for traversing the array once is O(n).\n",
    "\n",
    "Space Complexity: O(n), Similar to the Two-Pass Hash Table Approach, a hash map is used to store the elements and their indices. The space complexity is O(n) as the space required for the hash map grows with the number of elements in the array."
   ]
  },
  {
   "cell_type": "markdown",
   "metadata": {
    "id": "crRgG5TgoGek"
   },
   "source": [
    "**List to frequency dictionary**\n",
    "\n"
   ]
  },
  {
   "cell_type": "markdown",
   "metadata": {
    "id": "v1gmuyZypmi8"
   },
   "source": [
    "Given an unsorted list of some elements(which may or may not be integers), find the frequency of each distinct element in the list using a dictionary."
   ]
  },
  {
   "cell_type": "code",
   "execution_count": null,
   "metadata": {
    "colab": {
     "base_uri": "https://localhost:8080/"
    },
    "id": "EB7W3IVeoLol",
    "outputId": "1d3a579a-fdcb-4120-980f-eafff490d01d"
   },
   "outputs": [],
   "source": [
    "alist = [10,10,20,20,20,30]\n",
    "freq = {}\n",
    "\n",
    "# Provide your solution here\n",
    "\n",
    "print(freq)\n"
   ]
  },
  {
   "cell_type": "markdown",
   "metadata": {
    "id": "k2hzLDyzpwmj"
   },
   "source": [
    "> What are the time and space complexities?\n",
    ">\n",
    "> Time: ?\n",
    ">\n",
    "> Space: ?"
   ]
  }
 ],
 "metadata": {
  "colab": {
   "provenance": []
  },
  "kernelspec": {
   "display_name": "Python 3 (ipykernel)",
   "language": "python",
   "name": "python3"
  },
  "language_info": {
   "codemirror_mode": {
    "name": "ipython",
    "version": 3
   },
   "file_extension": ".py",
   "mimetype": "text/x-python",
   "name": "python",
   "nbconvert_exporter": "python",
   "pygments_lexer": "ipython3",
   "version": "3.11.2"
  }
 },
 "nbformat": 4,
 "nbformat_minor": 4
}
